{
 "cells": [
  {
   "cell_type": "code",
   "execution_count": 1,
   "metadata": {},
   "outputs": [],
   "source": [
    "import torch\n",
    "import torchvision\n",
    "from torchvision.datasets import MNIST"
   ]
  },
  {
   "cell_type": "code",
   "execution_count": 2,
   "metadata": {},
   "outputs": [],
   "source": [
    "import matplotlib.pyplot as plt\n",
    "%matplotlib inline "
   ]
  },
  {
   "cell_type": "code",
   "execution_count": 3,
   "metadata": {},
   "outputs": [],
   "source": [
    "from torchvision import transforms as trn\n",
    "dataset = MNIST(root='data/', train=True , transform= trn.ToTensor())\n",
    "train_ds , val_ds = torch.utils.data.random_split(dataset , [50000, 10000])"
   ]
  },
  {
   "cell_type": "code",
   "execution_count": 4,
   "metadata": {},
   "outputs": [],
   "source": [
    "from torch.utils.data import DataLoader\n",
    "Bch_size = 128\n",
    "train_load= DataLoader(train_ds, Bch_size, shuffle=True)\n",
    "val_load= DataLoader(val_ds, Bch_size)\n"
   ]
  },
  {
   "cell_type": "code",
   "execution_count": 5,
   "metadata": {},
   "outputs": [],
   "source": [
    "import torch.nn as nn \n",
    "inp_size = 28*28\n",
    "num_classes = 10 \n",
    "model = nn.Linear(inp_size, num_classes)"
   ]
  },
  {
   "cell_type": "code",
   "execution_count": 6,
   "metadata": {},
   "outputs": [],
   "source": [
    "import Modelinit\n",
    "model = Modelinit.Modelinit()"
   ]
  },
  {
   "cell_type": "code",
   "execution_count": 7,
   "metadata": {},
   "outputs": [
    {
     "data": {
      "text/plain": [
       "{'val_loss': 2.303983688354492, 'val_acc': 0.12519778311252594}"
      ]
     },
     "execution_count": 7,
     "metadata": {},
     "output_type": "execute_result"
    }
   ],
   "source": [
    "import train\n",
    "from Modelinit import Modelinit as Minit \n",
    "result0 = train.evaluate(model, val_load)\n",
    "result0"
   ]
  },
  {
   "cell_type": "code",
   "execution_count": 8,
   "metadata": {},
   "outputs": [
    {
     "name": "stdout",
     "output_type": "stream",
     "text": [
      "Epoch [0], val_loss: 1.9382, val_acc: 0.6233\n",
      "Epoch [1], val_loss: 1.6730, val_acc: 0.7211\n",
      "Epoch [2], val_loss: 1.4749, val_acc: 0.7566\n",
      "Epoch [3], val_loss: 1.3250, val_acc: 0.7777\n",
      "Epoch [4], val_loss: 1.2096, val_acc: 0.7942\n",
      "Epoch [5], val_loss: 1.1188, val_acc: 0.8033\n",
      "Epoch [6], val_loss: 1.0457, val_acc: 0.8111\n",
      "Epoch [7], val_loss: 0.9860, val_acc: 0.8184\n",
      "Epoch [8], val_loss: 0.9363, val_acc: 0.8241\n",
      "Epoch [9], val_loss: 0.8942, val_acc: 0.8286\n",
      "Epoch [10], val_loss: 0.8581, val_acc: 0.8334\n",
      "Epoch [11], val_loss: 0.8268, val_acc: 0.8343\n",
      "Epoch [12], val_loss: 0.7994, val_acc: 0.8370\n",
      "Epoch [13], val_loss: 0.7752, val_acc: 0.8404\n",
      "Epoch [14], val_loss: 0.7537, val_acc: 0.8424\n",
      "Epoch [15], val_loss: 0.7343, val_acc: 0.8438\n",
      "Epoch [16], val_loss: 0.7169, val_acc: 0.8459\n",
      "Epoch [17], val_loss: 0.7010, val_acc: 0.8478\n",
      "Epoch [18], val_loss: 0.6866, val_acc: 0.8500\n",
      "Epoch [19], val_loss: 0.6734, val_acc: 0.8514\n",
      "Epoch [20], val_loss: 0.6612, val_acc: 0.8540\n",
      "Epoch [21], val_loss: 0.6499, val_acc: 0.8551\n",
      "Epoch [22], val_loss: 0.6395, val_acc: 0.8555\n",
      "Epoch [23], val_loss: 0.6297, val_acc: 0.8559\n",
      "Epoch [24], val_loss: 0.6207, val_acc: 0.8567\n",
      "Epoch [25], val_loss: 0.6122, val_acc: 0.8578\n",
      "Epoch [26], val_loss: 0.6043, val_acc: 0.8589\n",
      "Epoch [27], val_loss: 0.5968, val_acc: 0.8602\n",
      "Epoch [28], val_loss: 0.5897, val_acc: 0.8611\n",
      "Epoch [29], val_loss: 0.5831, val_acc: 0.8619\n",
      "Epoch [30], val_loss: 0.5768, val_acc: 0.8627\n",
      "Epoch [31], val_loss: 0.5708, val_acc: 0.8630\n",
      "Epoch [32], val_loss: 0.5651, val_acc: 0.8638\n",
      "Epoch [33], val_loss: 0.5598, val_acc: 0.8645\n",
      "Epoch [34], val_loss: 0.5547, val_acc: 0.8656\n",
      "Epoch [35], val_loss: 0.5498, val_acc: 0.8660\n",
      "Epoch [36], val_loss: 0.5452, val_acc: 0.8665\n",
      "Epoch [37], val_loss: 0.5407, val_acc: 0.8669\n",
      "Epoch [38], val_loss: 0.5364, val_acc: 0.8674\n",
      "Epoch [39], val_loss: 0.5323, val_acc: 0.8683\n",
      "Epoch [40], val_loss: 0.5284, val_acc: 0.8684\n",
      "Epoch [41], val_loss: 0.5246, val_acc: 0.8684\n",
      "Epoch [42], val_loss: 0.5210, val_acc: 0.8691\n",
      "Epoch [43], val_loss: 0.5175, val_acc: 0.8696\n",
      "Epoch [44], val_loss: 0.5142, val_acc: 0.8701\n",
      "Epoch [45], val_loss: 0.5109, val_acc: 0.8705\n",
      "Epoch [46], val_loss: 0.5078, val_acc: 0.8716\n",
      "Epoch [47], val_loss: 0.5048, val_acc: 0.8722\n",
      "Epoch [48], val_loss: 0.5019, val_acc: 0.8725\n",
      "Epoch [49], val_loss: 0.4991, val_acc: 0.8728\n"
     ]
    }
   ],
   "source": [
    "history1 = train.fit(50, 0.001, model, train_load, val_load, torch.optim.SGD)"
   ]
  },
  {
   "cell_type": "code",
   "execution_count": 9,
   "metadata": {},
   "outputs": [
    {
     "name": "stdout",
     "output_type": "stream",
     "text": [
      "Epoch [0], val_loss: 0.4963, val_acc: 0.8735\n",
      "Epoch [1], val_loss: 0.4937, val_acc: 0.8742\n",
      "Epoch [2], val_loss: 0.4912, val_acc: 0.8746\n",
      "Epoch [3], val_loss: 0.4887, val_acc: 0.8751\n",
      "Epoch [4], val_loss: 0.4863, val_acc: 0.8754\n",
      "Epoch [5], val_loss: 0.4839, val_acc: 0.8755\n",
      "Epoch [6], val_loss: 0.4816, val_acc: 0.8761\n",
      "Epoch [7], val_loss: 0.4794, val_acc: 0.8764\n",
      "Epoch [8], val_loss: 0.4773, val_acc: 0.8769\n",
      "Epoch [9], val_loss: 0.4752, val_acc: 0.8772\n",
      "Epoch [10], val_loss: 0.4732, val_acc: 0.8771\n",
      "Epoch [11], val_loss: 0.4712, val_acc: 0.8774\n",
      "Epoch [12], val_loss: 0.4693, val_acc: 0.8777\n",
      "Epoch [13], val_loss: 0.4674, val_acc: 0.8782\n",
      "Epoch [14], val_loss: 0.4656, val_acc: 0.8784\n",
      "Epoch [15], val_loss: 0.4638, val_acc: 0.8786\n",
      "Epoch [16], val_loss: 0.4621, val_acc: 0.8787\n",
      "Epoch [17], val_loss: 0.4604, val_acc: 0.8790\n",
      "Epoch [18], val_loss: 0.4587, val_acc: 0.8793\n",
      "Epoch [19], val_loss: 0.4571, val_acc: 0.8795\n",
      "Epoch [20], val_loss: 0.4555, val_acc: 0.8798\n",
      "Epoch [21], val_loss: 0.4540, val_acc: 0.8802\n",
      "Epoch [22], val_loss: 0.4525, val_acc: 0.8804\n",
      "Epoch [23], val_loss: 0.4510, val_acc: 0.8808\n",
      "Epoch [24], val_loss: 0.4495, val_acc: 0.8811\n",
      "Epoch [25], val_loss: 0.4481, val_acc: 0.8816\n",
      "Epoch [26], val_loss: 0.4467, val_acc: 0.8820\n",
      "Epoch [27], val_loss: 0.4454, val_acc: 0.8822\n",
      "Epoch [28], val_loss: 0.4441, val_acc: 0.8825\n",
      "Epoch [29], val_loss: 0.4427, val_acc: 0.8827\n",
      "Epoch [30], val_loss: 0.4415, val_acc: 0.8830\n",
      "Epoch [31], val_loss: 0.4402, val_acc: 0.8831\n",
      "Epoch [32], val_loss: 0.4390, val_acc: 0.8831\n",
      "Epoch [33], val_loss: 0.4378, val_acc: 0.8833\n",
      "Epoch [34], val_loss: 0.4366, val_acc: 0.8834\n",
      "Epoch [35], val_loss: 0.4355, val_acc: 0.8839\n",
      "Epoch [36], val_loss: 0.4343, val_acc: 0.8839\n",
      "Epoch [37], val_loss: 0.4332, val_acc: 0.8843\n",
      "Epoch [38], val_loss: 0.4321, val_acc: 0.8844\n",
      "Epoch [39], val_loss: 0.4310, val_acc: 0.8845\n",
      "Epoch [40], val_loss: 0.4299, val_acc: 0.8849\n",
      "Epoch [41], val_loss: 0.4289, val_acc: 0.8853\n",
      "Epoch [42], val_loss: 0.4279, val_acc: 0.8854\n",
      "Epoch [43], val_loss: 0.4269, val_acc: 0.8855\n",
      "Epoch [44], val_loss: 0.4259, val_acc: 0.8858\n",
      "Epoch [45], val_loss: 0.4249, val_acc: 0.8861\n",
      "Epoch [46], val_loss: 0.4240, val_acc: 0.8861\n",
      "Epoch [47], val_loss: 0.4231, val_acc: 0.8864\n",
      "Epoch [48], val_loss: 0.4221, val_acc: 0.8866\n",
      "Epoch [49], val_loss: 0.4212, val_acc: 0.8870\n"
     ]
    }
   ],
   "source": [
    "history2 = train.fit(50, 0.001, model, train_load, val_load, torch.optim.SGD)"
   ]
  },
  {
   "cell_type": "code",
   "execution_count": 10,
   "metadata": {},
   "outputs": [
    {
     "name": "stdout",
     "output_type": "stream",
     "text": [
      "Epoch [0], val_loss: 0.4203, val_acc: 0.8871\n",
      "Epoch [1], val_loss: 0.4194, val_acc: 0.8873\n",
      "Epoch [2], val_loss: 0.4186, val_acc: 0.8874\n",
      "Epoch [3], val_loss: 0.4177, val_acc: 0.8877\n",
      "Epoch [4], val_loss: 0.4169, val_acc: 0.8879\n",
      "Epoch [5], val_loss: 0.4160, val_acc: 0.8879\n",
      "Epoch [6], val_loss: 0.4152, val_acc: 0.8881\n",
      "Epoch [7], val_loss: 0.4144, val_acc: 0.8883\n",
      "Epoch [8], val_loss: 0.4136, val_acc: 0.8883\n",
      "Epoch [9], val_loss: 0.4129, val_acc: 0.8885\n",
      "Epoch [10], val_loss: 0.4121, val_acc: 0.8885\n",
      "Epoch [11], val_loss: 0.4113, val_acc: 0.8885\n",
      "Epoch [12], val_loss: 0.4106, val_acc: 0.8886\n",
      "Epoch [13], val_loss: 0.4098, val_acc: 0.8889\n",
      "Epoch [14], val_loss: 0.4091, val_acc: 0.8889\n",
      "Epoch [15], val_loss: 0.4084, val_acc: 0.8894\n",
      "Epoch [16], val_loss: 0.4077, val_acc: 0.8898\n",
      "Epoch [17], val_loss: 0.4070, val_acc: 0.8898\n",
      "Epoch [18], val_loss: 0.4063, val_acc: 0.8897\n",
      "Epoch [19], val_loss: 0.4056, val_acc: 0.8899\n",
      "Epoch [20], val_loss: 0.4050, val_acc: 0.8900\n",
      "Epoch [21], val_loss: 0.4043, val_acc: 0.8902\n",
      "Epoch [22], val_loss: 0.4036, val_acc: 0.8901\n",
      "Epoch [23], val_loss: 0.4030, val_acc: 0.8901\n",
      "Epoch [24], val_loss: 0.4024, val_acc: 0.8904\n",
      "Epoch [25], val_loss: 0.4017, val_acc: 0.8906\n",
      "Epoch [26], val_loss: 0.4011, val_acc: 0.8905\n",
      "Epoch [27], val_loss: 0.4005, val_acc: 0.8911\n",
      "Epoch [28], val_loss: 0.3999, val_acc: 0.8912\n",
      "Epoch [29], val_loss: 0.3993, val_acc: 0.8913\n",
      "Epoch [30], val_loss: 0.3987, val_acc: 0.8915\n",
      "Epoch [31], val_loss: 0.3981, val_acc: 0.8915\n",
      "Epoch [32], val_loss: 0.3975, val_acc: 0.8918\n",
      "Epoch [33], val_loss: 0.3970, val_acc: 0.8920\n",
      "Epoch [34], val_loss: 0.3964, val_acc: 0.8923\n",
      "Epoch [35], val_loss: 0.3959, val_acc: 0.8926\n",
      "Epoch [36], val_loss: 0.3953, val_acc: 0.8928\n",
      "Epoch [37], val_loss: 0.3947, val_acc: 0.8928\n",
      "Epoch [38], val_loss: 0.3942, val_acc: 0.8921\n",
      "Epoch [39], val_loss: 0.3936, val_acc: 0.8921\n",
      "Epoch [40], val_loss: 0.3931, val_acc: 0.8922\n",
      "Epoch [41], val_loss: 0.3926, val_acc: 0.8926\n",
      "Epoch [42], val_loss: 0.3921, val_acc: 0.8929\n",
      "Epoch [43], val_loss: 0.3916, val_acc: 0.8928\n",
      "Epoch [44], val_loss: 0.3911, val_acc: 0.8930\n",
      "Epoch [45], val_loss: 0.3906, val_acc: 0.8929\n",
      "Epoch [46], val_loss: 0.3901, val_acc: 0.8932\n",
      "Epoch [47], val_loss: 0.3896, val_acc: 0.8932\n",
      "Epoch [48], val_loss: 0.3891, val_acc: 0.8932\n",
      "Epoch [49], val_loss: 0.3886, val_acc: 0.8933\n"
     ]
    }
   ],
   "source": [
    "history3 = train.fit(50, 0.001, model, train_load, val_load, torch.optim.SGD)"
   ]
  },
  {
   "cell_type": "code",
   "execution_count": 11,
   "metadata": {},
   "outputs": [
    {
     "data": {
      "image/png": "[encoded data removed]",
      "text/plain": [
       "<Figure size 640x480 with 1 Axes>"
      ]
     },
     "metadata": {},
     "output_type": "display_data"
    }
   ],
   "source": [
    "history = [result0] + history1 + history2 + history3\n",
    "accuracies = [result['val_acc'] for result in history]\n",
    "plt.plot(accuracies, '-x')\n",
    "plt.xlabel('epoch')\n",
    "plt.ylabel('accuracy')\n",
    "plt.title('Accuracy vs. No. of epochs');"
   ]
  },
  {
   "cell_type": "markdown",
   "metadata": {},
   "source": [
    " Now to test the Dman thing "
   ]
  },
  {
   "cell_type": "code",
   "execution_count": null,
   "metadata": {},
   "outputs": [],
   "source": [
    "device = torch.device('cpu')"
   ]
  },
  {
   "cell_type": "code",
   "execution_count": 50,
   "metadata": {},
   "outputs": [
    {
     "name": "stdout",
     "output_type": "stream",
     "text": [
      "Label: 6 , Prediction:  6\n"
     ]
    },
    {
     "data": {
      "image/png": "[encoded data removed]",
      "text/plain": [
       "<Figure size 640x480 with 1 Axes>"
      ]
     },
     "metadata": {},
     "output_type": "display_data"
    }
   ],
   "source": [
    "from pred import predict_image as PI\n",
    "test_dataset = MNIST(root='data/', train= False, transform= trn.ToTensor())\n",
    "img, label = test_dataset[602]\n",
    "plt.imshow(img[0], cmap='gray')\n",
    "print('Label:',label,', Prediction: ', PI(img, model,device))"
   ]
  },
  {
   "cell_type": "markdown",
   "metadata": {},
   "source": [
    "Now to save this model"
   ]
  },
  {
   "cell_type": "code",
   "execution_count": 39,
   "metadata": {},
   "outputs": [],
   "source": [
    "import os\n",
    "#cur_dir = os.path.dirname(os.path.abspath(__file__))\n",
    "cur_dir = os.getcwd()\n",
    "save_path = os.path.join(cur_dir, 'models/Saved-number-model-weights.pth')\n",
    "save_path_md = os.path.join(cur_dir, 'models/Saved-number-model.pt')\n",
    "torch.save(model.state_dict(),save_path)\n",
    "torch.save(model, save_path_md)"
   ]
  }
 ],
 "metadata": {
  "kernelspec": {
   "display_name": "Python 3",
   "language": "python",
   "name": "python3"
  },
  "language_info": {
   "codemirror_mode": {
    "name": "ipython",
    "version": 3
   },
   "file_extension": ".py",
   "mimetype": "text/x-python",
   "name": "python",
   "nbconvert_exporter": "python",
   "pygments_lexer": "ipython3",
   "version": "3.11.5"
  }
 },
 "nbformat": 4,
 "nbformat_minor": 2
}
