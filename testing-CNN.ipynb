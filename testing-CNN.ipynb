{
 "cells": [
  {
   "cell_type": "code",
   "execution_count": 1,
   "metadata": {},
   "outputs": [],
   "source": [
    "import os\n",
    "import torch\n",
    "import torchvision\n",
    "import tarfile\n",
    "from torchvision.datasets.utils import download_url\n",
    "from torch.utils.data import random_split\n",
    "import torch.nn as nn \n",
    "import torch.nn.functional as F\n",
    "from torchvision.datasets import ImageFolder as IM\n",
    "from torchvision.transforms import ToTensor as Ten\n",
    "import matplotlib.pyplot as plt "
   ]
  },
  {
   "cell_type": "code",
   "execution_count": 3,
   "metadata": {},
   "outputs": [],
   "source": [
    "test_dir = './self_test'\n",
    "model_path = './models/Saved-number-CNN-model.pt'\n",
    "classes =['airplane', 'automobile', 'bird', 'cat', 'deer', 'dog', 'frog', 'horse', 'ship', 'truck']"
   ]
  },
  {
   "cell_type": "code",
   "execution_count": 4,
   "metadata": {},
   "outputs": [],
   "source": [
    "def accuracy(ouputs, lables):\n",
    "    __, preds = torch.max(ouputs, dim=1)\n",
    "    return torch.tensor(torch.sum(preds == lables).item() / len(preds))\n",
    "\n",
    "class ImgClassificactionBase(nn.Module):\n",
    "    def training_step(self, batch):\n",
    "        images, labels = batch\n",
    "        out = self(images)\n",
    "        loss = F.cross_entropy(out, labels)\n",
    "        return loss\n",
    "    def val_step(self, batch):\n",
    "        images, labels = batch\n",
    "        out = self(images)\n",
    "        loss = F.cross_entropy(out, labels)\n",
    "        acc = accuracy(out, labels)\n",
    "        return {'val_loss': loss.detach(), 'val_acc': acc}\n",
    "    def val_epoc_end(self, outputs):\n",
    "        batch_loss = [x['val_loss'] for x in outputs]\n",
    "        epoc_loss = torch.stack(batch_loss).mean()\n",
    "        batch_acc = [x['val_acc'] for x in outputs]\n",
    "        epoc_acc = torch.stack(batch_acc).mean()\n",
    "        return {'val_loss': epoc_loss.item(), 'val_acc': epoc_acc.item()}\n",
    "    def epoc_end(self, epoc, result):\n",
    "                  print(\"Epoch\"+str(epoc)+\", train_loss: {:.4f}, val_loss: {:.4f}, val_acc: {:.4f}\".format(\n",
    "                    result['train_loss'], result['val_loss'], result['val_acc']))"
   ]
  },
  {
   "cell_type": "code",
   "execution_count": 5,
   "metadata": {},
   "outputs": [],
   "source": [
    "class CNN(ImgClassificactionBase):\n",
    "    def __init__(self):\n",
    "        super().__init__()\n",
    "        self.network = nn.Sequential(\n",
    "                                        nn.Conv2d(3,32, kernel_size=3, padding=1),\n",
    "                                        nn.ReLU6(),\n",
    "                                        nn.Conv2d(32,64, kernel_size=3, stride=1, padding=1),\n",
    "                                        nn.ReLU6(),\n",
    "                                        nn.MaxPool2d(2,2),\n",
    "                                        nn.Conv2d(64,128, kernel_size=3, stride=1, padding=1),\n",
    "                                        nn.ReLU6(),\n",
    "                                        nn.Conv2d(128,256, kernel_size=3, stride=1, padding=1),\n",
    "                                        nn.ReLU6(),\n",
    "                                        nn.MaxPool2d(2,2),\n",
    "                                        nn.Conv2d(256,512, kernel_size=3, stride=1, padding=1),\n",
    "                                        nn.MaxPool2d(2,2),\n",
    "                                        nn.Flatten(),\n",
    "                                        nn.Linear(512*4*4, 2048),\n",
    "                                        nn.ReLU6(),\n",
    "                                        nn.Linear(2048, 1024),\n",
    "                                        nn.ReLU6(),\n",
    "                                        nn.Linear(1024,512),\n",
    "                                        nn.ReLU6(),\n",
    "                                        nn.Linear(512,10)\n",
    "                                    )\n",
    "    def forward(self, xb):\n",
    "        return self.network(xb)"
   ]
  },
  {
   "cell_type": "code",
   "execution_count": 6,
   "metadata": {},
   "outputs": [],
   "source": [
    "model = torch.load(model_path)"
   ]
  },
  {
   "cell_type": "code",
   "execution_count": 7,
   "metadata": {},
   "outputs": [],
   "source": [
    "def get_default_device():\n",
    "    \"\"\"Pick GPU if available, else CPU\"\"\"\n",
    "    if torch.cuda.is_available():\n",
    "        return torch.device('cuda')\n",
    "    else:\n",
    "        return torch.device('cpu')\n",
    "    \n",
    "def to_device(data, device):\n",
    "    \"\"\"Move tensor(s) to chosen device\"\"\"\n",
    "    if isinstance(data, (list,tuple)):\n",
    "        return [to_device(x, device) for x in data]\n",
    "    return data.to(device, non_blocking=True)\n",
    "\n",
    "class DeviceDataLoader():\n",
    "    \"\"\"Wrap a dataloader to move data to a device\"\"\"\n",
    "    def __init__(self, dl, device):\n",
    "        self.dl = dl\n",
    "        self.device = device\n",
    "        \n",
    "    def __iter__(self):\n",
    "        \"\"\"Yield a batch of data after moving it to device\"\"\"\n",
    "        for b in self.dl: \n",
    "            yield to_device(b, self.device)\n",
    "\n",
    "    def __len__(self):\n",
    "        \"\"\"Number of batches\"\"\"\n",
    "        return len(self.dl)"
   ]
  },
  {
   "cell_type": "code",
   "execution_count": 8,
   "metadata": {},
   "outputs": [
    {
     "data": {
      "text/plain": [
       "device(type='cuda')"
      ]
     },
     "execution_count": 8,
     "metadata": {},
     "output_type": "execute_result"
    }
   ],
   "source": [
    "device = get_default_device()\n",
    "device "
   ]
  },
  {
   "cell_type": "code",
   "execution_count": 13,
   "metadata": {},
   "outputs": [
    {
     "name": "stdout",
     "output_type": "stream",
     "text": [
      "Label: cat , Prediction:  cat\n"
     ]
    },
    {
     "data": {
      "image/png": "[encoded data removed]",
      "text/plain": [
       "<Figure size 640x480 with 1 Axes>"
      ]
     },
     "metadata": {},
     "output_type": "display_data"
    }
   ],
   "source": [
    "from pred import predict_image as PI\n",
    "ds = IM(test_dir, transform= Ten())\n",
    "img , label = ds[0]\n",
    "plt.imshow(img.permute((1,2,0)))\n",
    "print('Label:',ds.classes[label],', Prediction: ', classes[PI(img, model, device)])"
   ]
  }
 ],
 "metadata": {
  "kernelspec": {
   "display_name": "Python 3",
   "language": "python",
   "name": "python3"
  },
  "language_info": {
   "codemirror_mode": {
    "name": "ipython",
    "version": 3
   },
   "file_extension": ".py",
   "mimetype": "text/x-python",
   "name": "python",
   "nbconvert_exporter": "python",
   "pygments_lexer": "ipython3",
   "version": "3.11.5"
  }
 },
 "nbformat": 4,
 "nbformat_minor": 2
}
