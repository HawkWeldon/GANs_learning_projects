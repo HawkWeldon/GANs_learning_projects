{
 "cells": [
  {
   "cell_type": "code",
   "execution_count": 1,
   "metadata": {},
   "outputs": [],
   "source": [
    "import os\n",
    "import torch\n",
    "import torchvision\n",
    "import tarfile\n",
    "import torch.nn as nn\n",
    "import numpy as np\n",
    "import torch.nn.functional as F\n",
    "from torchvision.datasets.utils import download_url\n",
    "from torchvision.datasets import ImageFolder\n",
    "from torch.utils.data import DataLoader\n",
    "import torchvision.transforms as tt\n",
    "from torch.utils.data import random_split\n",
    "from torchvision.utils import make_grid\n",
    "import matplotlib\n",
    "import matplotlib.pyplot as plt\n",
    "%matplotlib inline"
   ]
  },
  {
   "cell_type": "code",
   "execution_count": 2,
   "metadata": {},
   "outputs": [],
   "source": [
    "def get_default_device():\n",
    "    \"\"\"Pick GPU if available, else CPU\"\"\"\n",
    "    if torch.cuda.is_available():\n",
    "        return torch.device('cuda')\n",
    "    else:\n",
    "        return torch.device('cpu')\n",
    "    \n",
    "def to_device(data, device):\n",
    "    \"\"\"Move tensor(s) to chosen device\"\"\"\n",
    "    if isinstance(data, (list,tuple)):\n",
    "        return [to_device(x, device) for x in data]\n",
    "    return data.to(device, non_blocking=True)\n",
    "\n",
    "def accuracy(ouputs, lables):\n",
    "    __, preds = torch.max(ouputs, dim=1)\n",
    "    return torch.tensor(torch.sum(preds == lables).item() / len(preds))\n",
    "\n",
    "class ImgClassificactionBase(nn.Module):\n",
    "    def training_step(self, batch):\n",
    "        images, labels = batch\n",
    "        out = self(images)\n",
    "        loss = F.cross_entropy(out, labels)\n",
    "        return loss\n",
    "    def val_step(self, batch):\n",
    "        images, labels = batch\n",
    "        out = self(images)\n",
    "        loss = F.cross_entropy(out, labels)\n",
    "        acc = accuracy(out, labels)\n",
    "        return {'val_loss': loss.detach(), 'val_acc': acc}\n",
    "    def val_epoc_end(self, outputs):\n",
    "        batch_loss = [x['val_loss'] for x in outputs]\n",
    "        epoc_loss = torch.stack(batch_loss).mean()\n",
    "        batch_acc = [x['val_acc'] for x in outputs]\n",
    "        epoc_acc = torch.stack(batch_acc).mean()\n",
    "        return {'val_loss': epoc_loss.item(), 'val_acc': epoc_acc.item()}\n",
    "    def epoc_end(self, epoc, result): \n",
    "        print(\"Epoch\"+str(epoc)+\", train_loss: {:.4f}, val_loss: {:.4f}, val_acc: {:.4f}\".format(result['train_loss'], result['val_loss'], result['val_acc']))\n",
    "\n",
    "def conv_bloc(in_channels, out_channels, pool = False):\n",
    "    layers = [nn.Conv2d(in_channels,out_channels, kernel_size=3,stride=1 ,padding=1),\n",
    "              nn.BatchNorm2d(out_channels),\n",
    "              nn.ReLU6(inplace=True)]\n",
    "    if pool: layers.append(nn.MaxPool2d(2))\n",
    "    return nn.Sequential(*layers)\n",
    "\n",
    "class Resnet9(ImgClassificactionBase):\n",
    "    def __init__(self, inchannels, num_classes):\n",
    "        super().__init__()\n",
    "        self.conv1 = conv_bloc(inchannels, 64) # 64,32,32\n",
    "        self.conv2 = conv_bloc(64, 128, pool=True) # 128,16,16\n",
    "        self.res1 = nn.Sequential(conv_bloc(128,128),\n",
    "                                  conv_bloc(128,128))#128,16,16\n",
    "        self.conv3 = conv_bloc(128,256,pool=True)#256,8,8\n",
    "        self.conv4 = conv_bloc(256,512,pool=True)#512,4,4\n",
    "        self.res2 = nn.Sequential(conv_bloc(512,512),\n",
    "                                  conv_bloc(512,512))#512,4,4\n",
    "        self.classifier = nn.Sequential(nn.MaxPool2d(4), #512,1,1\n",
    "                                        nn.Flatten(), #512\n",
    "                                        nn.Dropout(0.2), #drops 20% of inputs\n",
    "                                        nn.Linear(512, num_classes))\n",
    "    def forward(self, xb):\n",
    "        out = self.conv1(xb)\n",
    "        out = self.conv2(out)\n",
    "        out = self.res1(out) + out\n",
    "        out = self.conv3(out)\n",
    "        out = self.conv4(out)\n",
    "        out = self.res2(out) + out\n",
    "        out = self.classifier(out)\n",
    "        return out"
   ]
  },
  {
   "cell_type": "code",
   "execution_count": 3,
   "metadata": {},
   "outputs": [],
   "source": [
    "classes =['airplane', 'automobile', 'bird', 'cat', 'deer', 'dog', 'frog', 'horse', 'ship', 'truck']\n",
    "device = get_default_device()\n",
    "IM = ImageFolder\n",
    "test_dir = './self_test'\n",
    "model_path = './models/Saved-number-aug-CNN-model.pt'"
   ]
  },
  {
   "cell_type": "code",
   "execution_count": 4,
   "metadata": {},
   "outputs": [
    {
     "data": {
      "text/plain": [
       "device(type='cuda')"
      ]
     },
     "execution_count": 4,
     "metadata": {},
     "output_type": "execute_result"
    }
   ],
   "source": [
    "device"
   ]
  },
  {
   "cell_type": "code",
   "execution_count": 5,
   "metadata": {},
   "outputs": [],
   "source": [
    "torch.cuda.empty_cache()\n",
    "#model = torch.load(model_path,torch.device('cpu'))\n",
    "model = torch.load(model_path)"
   ]
  },
  {
   "cell_type": "code",
   "execution_count": 8,
   "metadata": {},
   "outputs": [
    {
     "name": "stdout",
     "output_type": "stream",
     "text": [
      "Label: cat , Prediction:  cat\n"
     ]
    },
    {
     "data": {
      "image/png": "[encoded data removed]",
      "text/plain": [
       "<Figure size 640x480 with 1 Axes>"
      ]
     },
     "metadata": {},
     "output_type": "display_data"
    }
   ],
   "source": [
    "ds_show = IM(test_dir, transform= tt.ToTensor())\n",
    "stats = ((0.4914, 0.4822, 0.4465), (0.2023, 0.1994, 0.2010)) # ((mean),(std_div)) in R,G,B\n",
    "val_tf = tt.Compose([tt.ToTensor(), tt.Normalize(*stats)])\n",
    "ds = IM(test_dir, transform= val_tf)\n",
    "###################\n",
    "###################\n",
    "index = 1\n",
    "###################\n",
    "###################\n",
    "from pred import predict_image as PI\n",
    "imgs, __ = ds_show[index]\n",
    "img , label = ds[index]\n",
    "plt.imshow(imgs.permute((1,2,0)))\n",
    "print('Label:',ds.classes[label],', Prediction: ',classes[PI(img, model, device)])"
   ]
  },
  {
   "cell_type": "code",
   "execution_count": null,
   "metadata": {},
   "outputs": [],
   "source": []
  }
 ],
 "metadata": {
  "kernelspec": {
   "display_name": "Python 3",
   "language": "python",
   "name": "python3"
  },
  "language_info": {
   "codemirror_mode": {
    "name": "ipython",
    "version": 3
   },
   "file_extension": ".py",
   "mimetype": "text/x-python",
   "name": "python",
   "nbconvert_exporter": "python",
   "pygments_lexer": "ipython3",
   "version": "3.11.6"
  }
 },
 "nbformat": 4,
 "nbformat_minor": 2
}
